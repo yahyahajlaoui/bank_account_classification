{
  "nbformat": 4,
  "nbformat_minor": 0,
  "metadata": {
    "colab": {
      "name": "classification_bank_account.ipynb",
      "provenance": [],
      "collapsed_sections": []
    },
    "kernelspec": {
      "name": "python3",
      "display_name": "Python 3"
    },
    "language_info": {
      "name": "python"
    }
  },
  "cells": [
    {
      "cell_type": "code",
      "metadata": {
        "id": "a6xAKapsGN7m"
      },
      "source": [
        "import pandas as pd \n",
        "import numpy as np"
      ],
      "execution_count": null,
      "outputs": []
    },
    {
      "cell_type": "code",
      "metadata": {
        "id": "-f9ksAk-GfAp"
      },
      "source": [
        "dataset_Train = pd.read_csv(\"Train.csv\")\n",
        "dataset_Test = pd.read_csv(\"Test.csv\")\n",
        "dataset_Test_OG = pd.read_csv(\"Test.csv\")\n",
        "var = pd.read_csv(\"VariableDefinitions.csv\")"
      ],
      "execution_count": null,
      "outputs": []
    },
    {
      "cell_type": "code",
      "metadata": {
        "id": "STD0e6aSGr7e"
      },
      "source": [
        "pd.options.display.max_colwidth = 200 #Changing parameters to be able to display long sentences"
      ],
      "execution_count": null,
      "outputs": []
    },
    {
      "cell_type": "code",
      "metadata": {
        "colab": {
          "base_uri": "https://localhost:8080/",
          "height": 411
        },
        "id": "FoVOMzq7GtuT",
        "outputId": "0eb2a714-eaa5-4e49-bd90-4c5bd8ec63ec"
      },
      "source": [
        "var"
      ],
      "execution_count": null,
      "outputs": [
        {
          "output_type": "execute_result",
          "data": {
            "text/html": [
              "<div>\n",
              "<style scoped>\n",
              "    .dataframe tbody tr th:only-of-type {\n",
              "        vertical-align: middle;\n",
              "    }\n",
              "\n",
              "    .dataframe tbody tr th {\n",
              "        vertical-align: top;\n",
              "    }\n",
              "\n",
              "    .dataframe thead th {\n",
              "        text-align: right;\n",
              "    }\n",
              "</style>\n",
              "<table border=\"1\" class=\"dataframe\">\n",
              "  <thead>\n",
              "    <tr style=\"text-align: right;\">\n",
              "      <th></th>\n",
              "      <th>Variable Definitions</th>\n",
              "      <th>Unnamed: 1</th>\n",
              "    </tr>\n",
              "  </thead>\n",
              "  <tbody>\n",
              "    <tr>\n",
              "      <th>0</th>\n",
              "      <td>country</td>\n",
              "      <td>Country interviewee is in.</td>\n",
              "    </tr>\n",
              "    <tr>\n",
              "      <th>1</th>\n",
              "      <td>year</td>\n",
              "      <td>Year survey was done in.</td>\n",
              "    </tr>\n",
              "    <tr>\n",
              "      <th>2</th>\n",
              "      <td>uniqueid</td>\n",
              "      <td>Unique identifier for each interviewee</td>\n",
              "    </tr>\n",
              "    <tr>\n",
              "      <th>3</th>\n",
              "      <td>location_type</td>\n",
              "      <td>Type of location: Rural, Urban</td>\n",
              "    </tr>\n",
              "    <tr>\n",
              "      <th>4</th>\n",
              "      <td>cellphone_access</td>\n",
              "      <td>If interviewee has access to a cellphone: Yes, No</td>\n",
              "    </tr>\n",
              "    <tr>\n",
              "      <th>5</th>\n",
              "      <td>household_size</td>\n",
              "      <td>Number of people living in one house</td>\n",
              "    </tr>\n",
              "    <tr>\n",
              "      <th>6</th>\n",
              "      <td>age_of_respondent</td>\n",
              "      <td>The age of the interviewee</td>\n",
              "    </tr>\n",
              "    <tr>\n",
              "      <th>7</th>\n",
              "      <td>gender_of_respondent</td>\n",
              "      <td>Gender of interviewee: Male, Female</td>\n",
              "    </tr>\n",
              "    <tr>\n",
              "      <th>8</th>\n",
              "      <td>relationship_with_head</td>\n",
              "      <td>The interviewee’s relationship with the head of the house:Head of Household, Spouse, Child, Parent, Other relative, Other non-relatives, Dont know</td>\n",
              "    </tr>\n",
              "    <tr>\n",
              "      <th>9</th>\n",
              "      <td>marital_status</td>\n",
              "      <td>The martial status of the interviewee: Married/Living together, Divorced/Seperated, Widowed, Single/Never Married, Don’t know</td>\n",
              "    </tr>\n",
              "    <tr>\n",
              "      <th>10</th>\n",
              "      <td>education_level</td>\n",
              "      <td>Highest level of education: No formal education, Primary education, Secondary education, Vocational/Specialised training, Tertiary education, Other/Dont know/RTA</td>\n",
              "    </tr>\n",
              "    <tr>\n",
              "      <th>11</th>\n",
              "      <td>job_type</td>\n",
              "      <td>Type of job interviewee has: Farming and Fishing, Self employed, Formally employed Government, Formally employed Private, Informally employed, Remittance Dependent, Government Dependent, Other Inc...</td>\n",
              "    </tr>\n",
              "  </tbody>\n",
              "</table>\n",
              "</div>"
            ],
            "text/plain": [
              "      Variable Definitions                                                                                                                                                                                               Unnamed: 1\n",
              "0                  country                                                                                                                                                                               Country interviewee is in.\n",
              "1                     year                                                                                                                                                                                 Year survey was done in.\n",
              "2                 uniqueid                                                                                                                                                                   Unique identifier for each interviewee\n",
              "3            location_type                                                                                                                                                                           Type of location: Rural, Urban\n",
              "4         cellphone_access                                                                                                                                                        If interviewee has access to a cellphone: Yes, No\n",
              "5           household_size                                                                                                                                                                     Number of people living in one house\n",
              "6        age_of_respondent                                                                                                                                                                               The age of the interviewee\n",
              "7     gender_of_respondent                                                                                                                                                                      Gender of interviewee: Male, Female\n",
              "8   relationship_with_head                                                       The interviewee’s relationship with the head of the house:Head of Household, Spouse, Child, Parent, Other relative, Other non-relatives, Dont know\n",
              "9           marital_status                                                                            The martial status of the interviewee: Married/Living together, Divorced/Seperated, Widowed, Single/Never Married, Don’t know\n",
              "10         education_level                                        Highest level of education: No formal education, Primary education, Secondary education, Vocational/Specialised training, Tertiary education, Other/Dont know/RTA\n",
              "11                job_type  Type of job interviewee has: Farming and Fishing, Self employed, Formally employed Government, Formally employed Private, Informally employed, Remittance Dependent, Government Dependent, Other Inc..."
            ]
          },
          "metadata": {},
          "execution_count": 38
        }
      ]
    },
    {
      "cell_type": "code",
      "metadata": {
        "colab": {
          "base_uri": "https://localhost:8080/",
          "height": 297
        },
        "id": "IpdzZ32kZjZW",
        "outputId": "37ce4d6d-c4e6-4e48-b0b4-ab19d1387c67"
      },
      "source": [
        "dataset_Train.head()"
      ],
      "execution_count": null,
      "outputs": [
        {
          "output_type": "execute_result",
          "data": {
            "text/html": [
              "<div>\n",
              "<style scoped>\n",
              "    .dataframe tbody tr th:only-of-type {\n",
              "        vertical-align: middle;\n",
              "    }\n",
              "\n",
              "    .dataframe tbody tr th {\n",
              "        vertical-align: top;\n",
              "    }\n",
              "\n",
              "    .dataframe thead th {\n",
              "        text-align: right;\n",
              "    }\n",
              "</style>\n",
              "<table border=\"1\" class=\"dataframe\">\n",
              "  <thead>\n",
              "    <tr style=\"text-align: right;\">\n",
              "      <th></th>\n",
              "      <th>country</th>\n",
              "      <th>year</th>\n",
              "      <th>uniqueid</th>\n",
              "      <th>bank_account</th>\n",
              "      <th>location_type</th>\n",
              "      <th>cellphone_access</th>\n",
              "      <th>household_size</th>\n",
              "      <th>age_of_respondent</th>\n",
              "      <th>gender_of_respondent</th>\n",
              "      <th>relationship_with_head</th>\n",
              "      <th>marital_status</th>\n",
              "      <th>education_level</th>\n",
              "      <th>job_type</th>\n",
              "    </tr>\n",
              "  </thead>\n",
              "  <tbody>\n",
              "    <tr>\n",
              "      <th>0</th>\n",
              "      <td>Kenya</td>\n",
              "      <td>2018</td>\n",
              "      <td>uniqueid_1</td>\n",
              "      <td>Yes</td>\n",
              "      <td>Rural</td>\n",
              "      <td>Yes</td>\n",
              "      <td>3</td>\n",
              "      <td>24</td>\n",
              "      <td>Female</td>\n",
              "      <td>Spouse</td>\n",
              "      <td>Married/Living together</td>\n",
              "      <td>Secondary education</td>\n",
              "      <td>Self employed</td>\n",
              "    </tr>\n",
              "    <tr>\n",
              "      <th>1</th>\n",
              "      <td>Kenya</td>\n",
              "      <td>2018</td>\n",
              "      <td>uniqueid_2</td>\n",
              "      <td>No</td>\n",
              "      <td>Rural</td>\n",
              "      <td>No</td>\n",
              "      <td>5</td>\n",
              "      <td>70</td>\n",
              "      <td>Female</td>\n",
              "      <td>Head of Household</td>\n",
              "      <td>Widowed</td>\n",
              "      <td>No formal education</td>\n",
              "      <td>Government Dependent</td>\n",
              "    </tr>\n",
              "    <tr>\n",
              "      <th>2</th>\n",
              "      <td>Kenya</td>\n",
              "      <td>2018</td>\n",
              "      <td>uniqueid_3</td>\n",
              "      <td>Yes</td>\n",
              "      <td>Urban</td>\n",
              "      <td>Yes</td>\n",
              "      <td>5</td>\n",
              "      <td>26</td>\n",
              "      <td>Male</td>\n",
              "      <td>Other relative</td>\n",
              "      <td>Single/Never Married</td>\n",
              "      <td>Vocational/Specialised training</td>\n",
              "      <td>Self employed</td>\n",
              "    </tr>\n",
              "    <tr>\n",
              "      <th>3</th>\n",
              "      <td>Kenya</td>\n",
              "      <td>2018</td>\n",
              "      <td>uniqueid_4</td>\n",
              "      <td>No</td>\n",
              "      <td>Rural</td>\n",
              "      <td>Yes</td>\n",
              "      <td>5</td>\n",
              "      <td>34</td>\n",
              "      <td>Female</td>\n",
              "      <td>Head of Household</td>\n",
              "      <td>Married/Living together</td>\n",
              "      <td>Primary education</td>\n",
              "      <td>Formally employed Private</td>\n",
              "    </tr>\n",
              "    <tr>\n",
              "      <th>4</th>\n",
              "      <td>Kenya</td>\n",
              "      <td>2018</td>\n",
              "      <td>uniqueid_5</td>\n",
              "      <td>No</td>\n",
              "      <td>Urban</td>\n",
              "      <td>No</td>\n",
              "      <td>8</td>\n",
              "      <td>26</td>\n",
              "      <td>Male</td>\n",
              "      <td>Child</td>\n",
              "      <td>Single/Never Married</td>\n",
              "      <td>Primary education</td>\n",
              "      <td>Informally employed</td>\n",
              "    </tr>\n",
              "  </tbody>\n",
              "</table>\n",
              "</div>"
            ],
            "text/plain": [
              "  country  year  ...                  education_level                   job_type\n",
              "0   Kenya  2018  ...              Secondary education              Self employed\n",
              "1   Kenya  2018  ...              No formal education       Government Dependent\n",
              "2   Kenya  2018  ...  Vocational/Specialised training              Self employed\n",
              "3   Kenya  2018  ...                Primary education  Formally employed Private\n",
              "4   Kenya  2018  ...                Primary education        Informally employed\n",
              "\n",
              "[5 rows x 13 columns]"
            ]
          },
          "metadata": {},
          "execution_count": 39
        }
      ]
    },
    {
      "cell_type": "code",
      "metadata": {
        "id": "Wk6vFG7nGu8G"
      },
      "source": [
        "import matplotlib.pyplot as plt\n",
        "from matplotlib.pyplot import figure"
      ],
      "execution_count": null,
      "outputs": []
    },
    {
      "cell_type": "code",
      "metadata": {
        "colab": {
          "base_uri": "https://localhost:8080/",
          "height": 622
        },
        "id": "8hpojglGGwbD",
        "outputId": "aa3608cc-eab7-4366-f6f2-a0c0223b6db4"
      },
      "source": [
        "  figure(num=None, figsize=(10, 10))\n",
        "  plt.hist(dataset_Train['bank_account'])\n",
        "  plt.xlabel('Bank account')\n",
        "  plt.ylabel('number of people')"
      ],
      "execution_count": null,
      "outputs": [
        {
          "output_type": "execute_result",
          "data": {
            "text/plain": [
              "Text(0, 0.5, 'number of people')"
            ]
          },
          "metadata": {},
          "execution_count": 41
        },
        {
          "output_type": "display_data",
          "data": {
            "image/png": "[encoded data removed]",
            "text/plain": [
              "<Figure size 720x720 with 1 Axes>"
            ]
          },
          "metadata": {
            "needs_background": "light"
          }
        }
      ]
    },
    {
      "cell_type": "code",
      "metadata": {
        "id": "MXF-eDkKGxm_"
      },
      "source": [
        "yes = dataset_Train[dataset_Train['bank_account']=='Yes']['country'].value_counts() #counts the number of people with bank accounts in each country\n",
        "no  = dataset_Train[dataset_Train['bank_account']== 'No']['country'].value_counts() #counts the number of people with no bank accounts in each country"
      ],
      "execution_count": null,
      "outputs": []
    },
    {
      "cell_type": "code",
      "metadata": {
        "colab": {
          "base_uri": "https://localhost:8080/"
        },
        "id": "d-Scla9DG8Do",
        "outputId": "08bbff4a-d589-4ad3-b2d3-70b389f05099"
      },
      "source": [
        "yes"
      ],
      "execution_count": null,
      "outputs": [
        {
          "output_type": "execute_result",
          "data": {
            "text/plain": [
              "Kenya       1521\n",
              "Rwanda      1003\n",
              "Tanzania     607\n",
              "Uganda       181\n",
              "Name: country, dtype: int64"
            ]
          },
          "metadata": {},
          "execution_count": 43
        }
      ]
    },
    {
      "cell_type": "code",
      "metadata": {
        "colab": {
          "base_uri": "https://localhost:8080/"
        },
        "id": "47w3gmuxG-Ru",
        "outputId": "df88dd62-cb44-46cb-9a94-f1fc52878fb8"
      },
      "source": [
        "no"
      ],
      "execution_count": null,
      "outputs": [
        {
          "output_type": "execute_result",
          "data": {
            "text/plain": [
              "Rwanda      7732\n",
              "Tanzania    6013\n",
              "Kenya       4547\n",
              "Uganda      1920\n",
              "Name: country, dtype: int64"
            ]
          },
          "metadata": {},
          "execution_count": 44
        }
      ]
    },
    {
      "cell_type": "code",
      "metadata": {
        "colab": {
          "base_uri": "https://localhost:8080/",
          "height": 615
        },
        "id": "tlhitrlmG_hY",
        "outputId": "510b3b05-f0f1-48c1-d6f7-689fed40693e"
      },
      "source": [
        "country = pd.DataFrame([yes , no])\n",
        "country.index = ['yes', 'no']\n",
        "country.plot(kind = 'bar' , figsize = (10,10))"
      ],
      "execution_count": null,
      "outputs": [
        {
          "output_type": "execute_result",
          "data": {
            "text/plain": [
              "<matplotlib.axes._subplots.AxesSubplot at 0x7f4170c1e510>"
            ]
          },
          "metadata": {},
          "execution_count": 45
        },
        {
          "output_type": "display_data",
          "data": {
            "image/png": "[encoded data removed]",
            "text/plain": [
              "<Figure size 720x720 with 1 Axes>"
            ]
          },
          "metadata": {
            "needs_background": "light"
          }
        }
      ]
    },
    {
      "cell_type": "code",
      "metadata": {
        "id": "U0ehkPseZMrS"
      },
      "source": [
        "yes_job = dataset_Train[dataset_Train['bank_account']=='Yes']['job_type'].value_counts() \n",
        "no_job= dataset_Train[dataset_Train['bank_account']== 'No']['job_type'].value_counts()"
      ],
      "execution_count": null,
      "outputs": []
    },
    {
      "cell_type": "code",
      "metadata": {
        "colab": {
          "base_uri": "https://localhost:8080/",
          "height": 608
        },
        "id": "alOwfa9WHEdp",
        "outputId": "5f14d7fd-e1e0-48cc-8b14-bd910b3ea7e8"
      },
      "source": [
        "age = pd.DataFrame([yes_job, no_job])\n",
        "age.index = ['yes', 'no']\n",
        "age.plot(kind = 'barh', figsize = (10,10))"
      ],
      "execution_count": null,
      "outputs": [
        {
          "output_type": "execute_result",
          "data": {
            "text/plain": [
              "<matplotlib.axes._subplots.AxesSubplot at 0x7f4170c1a410>"
            ]
          },
          "metadata": {},
          "execution_count": 47
        },
        {
          "output_type": "display_data",
          "data": {
            "image/png": "[encoded data removed]",
            "text/plain": [
              "<Figure size 720x720 with 1 Axes>"
            ]
          },
          "metadata": {
            "needs_background": "light"
          }
        }
      ]
    },
    {
      "cell_type": "code",
      "metadata": {
        "id": "x722xgoyZVwb"
      },
      "source": [
        "yes_gender = dataset_Train[dataset_Train['bank_account']=='Yes']['gender_of_respondent'].value_counts() \n",
        "no_gender= dataset_Train[dataset_Train['bank_account']== 'No']['gender_of_respondent'].value_counts()"
      ],
      "execution_count": null,
      "outputs": []
    },
    {
      "cell_type": "code",
      "metadata": {
        "colab": {
          "base_uri": "https://localhost:8080/",
          "height": 615
        },
        "id": "MBKegZy6I_cX",
        "outputId": "bef660fe-4c72-4c37-8edc-a77c56887c7a"
      },
      "source": [
        "age = pd.DataFrame([yes_gender, no_gender])\n",
        "age.index = ['yes', 'no']\n",
        "age.plot(kind = 'bar', stacked = True, figsize = (10,10))"
      ],
      "execution_count": null,
      "outputs": [
        {
          "output_type": "execute_result",
          "data": {
            "text/plain": [
              "<matplotlib.axes._subplots.AxesSubplot at 0x7f416ffa55d0>"
            ]
          },
          "metadata": {},
          "execution_count": 49
        },
        {
          "output_type": "display_data",
          "data": {
            "image/png": "[encoded data removed]",
            "text/plain": [
              "<Figure size 720x720 with 1 Axes>"
            ]
          },
          "metadata": {
            "needs_background": "light"
          }
        }
      ]
    },
    {
      "cell_type": "code",
      "metadata": {
        "colab": {
          "base_uri": "https://localhost:8080/"
        },
        "id": "vD9TOX9_JHb4",
        "outputId": "18e99123-e011-4e5c-bb9f-fa3af08ec006"
      },
      "source": [
        "dataset_Train.isna().sum() #Checking for missing values"
      ],
      "execution_count": null,
      "outputs": [
        {
          "output_type": "execute_result",
          "data": {
            "text/plain": [
              "country                   0\n",
              "year                      0\n",
              "uniqueid                  0\n",
              "bank_account              0\n",
              "location_type             0\n",
              "cellphone_access          0\n",
              "household_size            0\n",
              "age_of_respondent         0\n",
              "gender_of_respondent      0\n",
              "relationship_with_head    0\n",
              "marital_status            0\n",
              "education_level           0\n",
              "job_type                  0\n",
              "dtype: int64"
            ]
          },
          "metadata": {},
          "execution_count": 50
        }
      ]
    },
    {
      "cell_type": "code",
      "metadata": {
        "colab": {
          "base_uri": "https://localhost:8080/"
        },
        "id": "hJ4jqcHEJLcW",
        "outputId": "878fe014-62ed-4a62-8296-ef157d5120c2"
      },
      "source": [
        "dataset_Train.max() #displays the max of every column"
      ],
      "execution_count": null,
      "outputs": [
        {
          "output_type": "execute_result",
          "data": {
            "text/plain": [
              "country                                            Uganda\n",
              "year                                                 2018\n",
              "uniqueid                                     uniqueid_999\n",
              "bank_account                                          Yes\n",
              "location_type                                       Urban\n",
              "cellphone_access                                      Yes\n",
              "household_size                                         21\n",
              "age_of_respondent                                     100\n",
              "gender_of_respondent                                 Male\n",
              "relationship_with_head                             Spouse\n",
              "marital_status                                    Widowed\n",
              "education_level           Vocational/Specialised training\n",
              "job_type                                    Self employed\n",
              "dtype: object"
            ]
          },
          "metadata": {},
          "execution_count": 51
        }
      ]
    },
    {
      "cell_type": "code",
      "metadata": {
        "id": "hdqcpbtUJNhW"
      },
      "source": [
        "dataset_Train['age_of_respondent'] = dataset_Train['age_of_respondent']/100\n",
        "dataset_Train['household_size'] = dataset_Train['household_size']/21\n",
        "dataset_Test['age_of_respondent'] = dataset_Test['age_of_respondent']/100\n",
        "dataset_Test['household_size'] = dataset_Test['household_size']/21"
      ],
      "execution_count": null,
      "outputs": []
    },
    {
      "cell_type": "markdown",
      "metadata": {
        "id": "8JQK77EDJinW"
      },
      "source": [
        "Encoding dummy variables\n",
        "![one-hot-encoding.png](data:image/png;base64,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)"
      ]
    },
    {
      "cell_type": "code",
      "metadata": {
        "id": "dsAHKIRaJPfr"
      },
      "source": [
        "dummies = ['location_type', 'education_level','relationship_with_head','gender_of_respondent','cellphone_access','cellphone_access','job_type','marital_status','country','year']\n"
      ],
      "execution_count": null,
      "outputs": []
    },
    {
      "cell_type": "code",
      "metadata": {
        "id": "vkw1NPr0J432"
      },
      "source": [
        "dataset_Train_dummied = pd.get_dummies(dataset_Train, columns=dummies)\n",
        "dataset_Test_dummied = pd.get_dummies(dataset_Test, columns=dummies)"
      ],
      "execution_count": null,
      "outputs": []
    },
    {
      "cell_type": "code",
      "metadata": {
        "id": "CeHwh5G5cw4w"
      },
      "source": [
        "dataset_Train_dummied['bank_account'] = dataset_Train_dummied['bank_account'].map( {'Yes': 1, 'No': 0} ).astype(int) "
      ],
      "execution_count": null,
      "outputs": []
    },
    {
      "cell_type": "code",
      "metadata": {
        "id": "KYiM8ZL7J7xG"
      },
      "source": [
        "dataset_Train_dummied = dataset_Train_dummied.drop('uniqueid', axis=1)\n",
        "dataset_Test_dummied = dataset_Test_dummied.drop('uniqueid', axis=1)"
      ],
      "execution_count": null,
      "outputs": []
    },
    {
      "cell_type": "code",
      "metadata": {
        "colab": {
          "base_uri": "https://localhost:8080/",
          "height": 252
        },
        "id": "bbbxhzZyJ9HF",
        "outputId": "b3bceb81-4803-48c7-b4db-681d0c7fff46"
      },
      "source": [
        "dataset_Train_dummied.head()"
      ],
      "execution_count": null,
      "outputs": [
        {
          "output_type": "execute_result",
          "data": {
            "text/html": [
              "<div>\n",
              "<style scoped>\n",
              "    .dataframe tbody tr th:only-of-type {\n",
              "        vertical-align: middle;\n",
              "    }\n",
              "\n",
              "    .dataframe tbody tr th {\n",
              "        vertical-align: top;\n",
              "    }\n",
              "\n",
              "    .dataframe thead th {\n",
              "        text-align: right;\n",
              "    }\n",
              "</style>\n",
              "<table border=\"1\" class=\"dataframe\">\n",
              "  <thead>\n",
              "    <tr style=\"text-align: right;\">\n",
              "      <th></th>\n",
              "      <th>bank_account</th>\n",
              "      <th>household_size</th>\n",
              "      <th>age_of_respondent</th>\n",
              "      <th>location_type_Rural</th>\n",
              "      <th>location_type_Urban</th>\n",
              "      <th>education_level_No formal education</th>\n",
              "      <th>education_level_Other/Dont know/RTA</th>\n",
              "      <th>education_level_Primary education</th>\n",
              "      <th>education_level_Secondary education</th>\n",
              "      <th>education_level_Tertiary education</th>\n",
              "      <th>education_level_Vocational/Specialised training</th>\n",
              "      <th>relationship_with_head_Child</th>\n",
              "      <th>relationship_with_head_Head of Household</th>\n",
              "      <th>relationship_with_head_Other non-relatives</th>\n",
              "      <th>relationship_with_head_Other relative</th>\n",
              "      <th>relationship_with_head_Parent</th>\n",
              "      <th>relationship_with_head_Spouse</th>\n",
              "      <th>gender_of_respondent_Female</th>\n",
              "      <th>gender_of_respondent_Male</th>\n",
              "      <th>cellphone_access_No</th>\n",
              "      <th>cellphone_access_Yes</th>\n",
              "      <th>cellphone_access_No</th>\n",
              "      <th>cellphone_access_Yes</th>\n",
              "      <th>job_type_Dont Know/Refuse to answer</th>\n",
              "      <th>job_type_Farming and Fishing</th>\n",
              "      <th>job_type_Formally employed Government</th>\n",
              "      <th>job_type_Formally employed Private</th>\n",
              "      <th>job_type_Government Dependent</th>\n",
              "      <th>job_type_Informally employed</th>\n",
              "      <th>job_type_No Income</th>\n",
              "      <th>job_type_Other Income</th>\n",
              "      <th>job_type_Remittance Dependent</th>\n",
              "      <th>job_type_Self employed</th>\n",
              "      <th>marital_status_Divorced/Seperated</th>\n",
              "      <th>marital_status_Dont know</th>\n",
              "      <th>marital_status_Married/Living together</th>\n",
              "      <th>marital_status_Single/Never Married</th>\n",
              "      <th>marital_status_Widowed</th>\n",
              "      <th>country_Kenya</th>\n",
              "      <th>country_Rwanda</th>\n",
              "      <th>country_Tanzania</th>\n",
              "      <th>country_Uganda</th>\n",
              "      <th>year_2016</th>\n",
              "      <th>year_2017</th>\n",
              "      <th>year_2018</th>\n",
              "    </tr>\n",
              "  </thead>\n",
              "  <tbody>\n",
              "    <tr>\n",
              "      <th>0</th>\n",
              "      <td>1</td>\n",
              "      <td>0.142857</td>\n",
              "      <td>0.24</td>\n",
              "      <td>1</td>\n",
              "      <td>0</td>\n",
              "      <td>0</td>\n",
              "      <td>0</td>\n",
              "      <td>0</td>\n",
              "      <td>1</td>\n",
              "      <td>0</td>\n",
              "      <td>0</td>\n",
              "      <td>0</td>\n",
              "      <td>0</td>\n",
              "      <td>0</td>\n",
              "      <td>0</td>\n",
              "      <td>0</td>\n",
              "      <td>1</td>\n",
              "      <td>1</td>\n",
              "      <td>0</td>\n",
              "      <td>0</td>\n",
              "      <td>1</td>\n",
              "      <td>0</td>\n",
              "      <td>1</td>\n",
              "      <td>0</td>\n",
              "      <td>0</td>\n",
              "      <td>0</td>\n",
              "      <td>0</td>\n",
              "      <td>0</td>\n",
              "      <td>0</td>\n",
              "      <td>0</td>\n",
              "      <td>0</td>\n",
              "      <td>0</td>\n",
              "      <td>1</td>\n",
              "      <td>0</td>\n",
              "      <td>0</td>\n",
              "      <td>1</td>\n",
              "      <td>0</td>\n",
              "      <td>0</td>\n",
              "      <td>1</td>\n",
              "      <td>0</td>\n",
              "      <td>0</td>\n",
              "      <td>0</td>\n",
              "      <td>0</td>\n",
              "      <td>0</td>\n",
              "      <td>1</td>\n",
              "    </tr>\n",
              "    <tr>\n",
              "      <th>1</th>\n",
              "      <td>0</td>\n",
              "      <td>0.238095</td>\n",
              "      <td>0.70</td>\n",
              "      <td>1</td>\n",
              "      <td>0</td>\n",
              "      <td>1</td>\n",
              "      <td>0</td>\n",
              "      <td>0</td>\n",
              "      <td>0</td>\n",
              "      <td>0</td>\n",
              "      <td>0</td>\n",
              "      <td>0</td>\n",
              "      <td>1</td>\n",
              "      <td>0</td>\n",
              "      <td>0</td>\n",
              "      <td>0</td>\n",
              "      <td>0</td>\n",
              "      <td>1</td>\n",
              "      <td>0</td>\n",
              "      <td>1</td>\n",
              "      <td>0</td>\n",
              "      <td>1</td>\n",
              "      <td>0</td>\n",
              "      <td>0</td>\n",
              "      <td>0</td>\n",
              "      <td>0</td>\n",
              "      <td>0</td>\n",
              "      <td>1</td>\n",
              "      <td>0</td>\n",
              "      <td>0</td>\n",
              "      <td>0</td>\n",
              "      <td>0</td>\n",
              "      <td>0</td>\n",
              "      <td>0</td>\n",
              "      <td>0</td>\n",
              "      <td>0</td>\n",
              "      <td>0</td>\n",
              "      <td>1</td>\n",
              "      <td>1</td>\n",
              "      <td>0</td>\n",
              "      <td>0</td>\n",
              "      <td>0</td>\n",
              "      <td>0</td>\n",
              "      <td>0</td>\n",
              "      <td>1</td>\n",
              "    </tr>\n",
              "    <tr>\n",
              "      <th>2</th>\n",
              "      <td>1</td>\n",
              "      <td>0.238095</td>\n",
              "      <td>0.26</td>\n",
              "      <td>0</td>\n",
              "      <td>1</td>\n",
              "      <td>0</td>\n",
              "      <td>0</td>\n",
              "      <td>0</td>\n",
              "      <td>0</td>\n",
              "      <td>0</td>\n",
              "      <td>1</td>\n",
              "      <td>0</td>\n",
              "      <td>0</td>\n",
              "      <td>0</td>\n",
              "      <td>1</td>\n",
              "      <td>0</td>\n",
              "      <td>0</td>\n",
              "      <td>0</td>\n",
              "      <td>1</td>\n",
              "      <td>0</td>\n",
              "      <td>1</td>\n",
              "      <td>0</td>\n",
              "      <td>1</td>\n",
              "      <td>0</td>\n",
              "      <td>0</td>\n",
              "      <td>0</td>\n",
              "      <td>0</td>\n",
              "      <td>0</td>\n",
              "      <td>0</td>\n",
              "      <td>0</td>\n",
              "      <td>0</td>\n",
              "      <td>0</td>\n",
              "      <td>1</td>\n",
              "      <td>0</td>\n",
              "      <td>0</td>\n",
              "      <td>0</td>\n",
              "      <td>1</td>\n",
              "      <td>0</td>\n",
              "      <td>1</td>\n",
              "      <td>0</td>\n",
              "      <td>0</td>\n",
              "      <td>0</td>\n",
              "      <td>0</td>\n",
              "      <td>0</td>\n",
              "      <td>1</td>\n",
              "    </tr>\n",
              "    <tr>\n",
              "      <th>3</th>\n",
              "      <td>0</td>\n",
              "      <td>0.238095</td>\n",
              "      <td>0.34</td>\n",
              "      <td>1</td>\n",
              "      <td>0</td>\n",
              "      <td>0</td>\n",
              "      <td>0</td>\n",
              "      <td>1</td>\n",
              "      <td>0</td>\n",
              "      <td>0</td>\n",
              "      <td>0</td>\n",
              "      <td>0</td>\n",
              "      <td>1</td>\n",
              "      <td>0</td>\n",
              "      <td>0</td>\n",
              "      <td>0</td>\n",
              "      <td>0</td>\n",
              "      <td>1</td>\n",
              "      <td>0</td>\n",
              "      <td>0</td>\n",
              "      <td>1</td>\n",
              "      <td>0</td>\n",
              "      <td>1</td>\n",
              "      <td>0</td>\n",
              "      <td>0</td>\n",
              "      <td>0</td>\n",
              "      <td>1</td>\n",
              "      <td>0</td>\n",
              "      <td>0</td>\n",
              "      <td>0</td>\n",
              "      <td>0</td>\n",
              "      <td>0</td>\n",
              "      <td>0</td>\n",
              "      <td>0</td>\n",
              "      <td>0</td>\n",
              "      <td>1</td>\n",
              "      <td>0</td>\n",
              "      <td>0</td>\n",
              "      <td>1</td>\n",
              "      <td>0</td>\n",
              "      <td>0</td>\n",
              "      <td>0</td>\n",
              "      <td>0</td>\n",
              "      <td>0</td>\n",
              "      <td>1</td>\n",
              "    </tr>\n",
              "    <tr>\n",
              "      <th>4</th>\n",
              "      <td>0</td>\n",
              "      <td>0.380952</td>\n",
              "      <td>0.26</td>\n",
              "      <td>0</td>\n",
              "      <td>1</td>\n",
              "      <td>0</td>\n",
              "      <td>0</td>\n",
              "      <td>1</td>\n",
              "      <td>0</td>\n",
              "      <td>0</td>\n",
              "      <td>0</td>\n",
              "      <td>1</td>\n",
              "      <td>0</td>\n",
              "      <td>0</td>\n",
              "      <td>0</td>\n",
              "      <td>0</td>\n",
              "      <td>0</td>\n",
              "      <td>0</td>\n",
              "      <td>1</td>\n",
              "      <td>1</td>\n",
              "      <td>0</td>\n",
              "      <td>1</td>\n",
              "      <td>0</td>\n",
              "      <td>0</td>\n",
              "      <td>0</td>\n",
              "      <td>0</td>\n",
              "      <td>0</td>\n",
              "      <td>0</td>\n",
              "      <td>1</td>\n",
              "      <td>0</td>\n",
              "      <td>0</td>\n",
              "      <td>0</td>\n",
              "      <td>0</td>\n",
              "      <td>0</td>\n",
              "      <td>0</td>\n",
              "      <td>0</td>\n",
              "      <td>1</td>\n",
              "      <td>0</td>\n",
              "      <td>1</td>\n",
              "      <td>0</td>\n",
              "      <td>0</td>\n",
              "      <td>0</td>\n",
              "      <td>0</td>\n",
              "      <td>0</td>\n",
              "      <td>1</td>\n",
              "    </tr>\n",
              "  </tbody>\n",
              "</table>\n",
              "</div>"
            ],
            "text/plain": [
              "   bank_account  household_size  ...  year_2017  year_2018\n",
              "0             1        0.142857  ...          0          1\n",
              "1             0        0.238095  ...          0          1\n",
              "2             1        0.238095  ...          0          1\n",
              "3             0        0.238095  ...          0          1\n",
              "4             0        0.380952  ...          0          1\n",
              "\n",
              "[5 rows x 45 columns]"
            ]
          },
          "metadata": {},
          "execution_count": 57
        }
      ]
    },
    {
      "cell_type": "code",
      "metadata": {
        "colab": {
          "base_uri": "https://localhost:8080/",
          "height": 252
        },
        "id": "4yoVlRf9J-L6",
        "outputId": "fac1936d-dc65-4210-c31d-bb7833970900"
      },
      "source": [
        "dataset_Test_dummied.head()"
      ],
      "execution_count": null,
      "outputs": [
        {
          "output_type": "execute_result",
          "data": {
            "text/html": [
              "<div>\n",
              "<style scoped>\n",
              "    .dataframe tbody tr th:only-of-type {\n",
              "        vertical-align: middle;\n",
              "    }\n",
              "\n",
              "    .dataframe tbody tr th {\n",
              "        vertical-align: top;\n",
              "    }\n",
              "\n",
              "    .dataframe thead th {\n",
              "        text-align: right;\n",
              "    }\n",
              "</style>\n",
              "<table border=\"1\" class=\"dataframe\">\n",
              "  <thead>\n",
              "    <tr style=\"text-align: right;\">\n",
              "      <th></th>\n",
              "      <th>household_size</th>\n",
              "      <th>age_of_respondent</th>\n",
              "      <th>location_type_Rural</th>\n",
              "      <th>location_type_Urban</th>\n",
              "      <th>education_level_No formal education</th>\n",
              "      <th>education_level_Other/Dont know/RTA</th>\n",
              "      <th>education_level_Primary education</th>\n",
              "      <th>education_level_Secondary education</th>\n",
              "      <th>education_level_Tertiary education</th>\n",
              "      <th>education_level_Vocational/Specialised training</th>\n",
              "      <th>relationship_with_head_Child</th>\n",
              "      <th>relationship_with_head_Head of Household</th>\n",
              "      <th>relationship_with_head_Other non-relatives</th>\n",
              "      <th>relationship_with_head_Other relative</th>\n",
              "      <th>relationship_with_head_Parent</th>\n",
              "      <th>relationship_with_head_Spouse</th>\n",
              "      <th>gender_of_respondent_Female</th>\n",
              "      <th>gender_of_respondent_Male</th>\n",
              "      <th>cellphone_access_No</th>\n",
              "      <th>cellphone_access_Yes</th>\n",
              "      <th>cellphone_access_No</th>\n",
              "      <th>cellphone_access_Yes</th>\n",
              "      <th>job_type_Dont Know/Refuse to answer</th>\n",
              "      <th>job_type_Farming and Fishing</th>\n",
              "      <th>job_type_Formally employed Government</th>\n",
              "      <th>job_type_Formally employed Private</th>\n",
              "      <th>job_type_Government Dependent</th>\n",
              "      <th>job_type_Informally employed</th>\n",
              "      <th>job_type_No Income</th>\n",
              "      <th>job_type_Other Income</th>\n",
              "      <th>job_type_Remittance Dependent</th>\n",
              "      <th>job_type_Self employed</th>\n",
              "      <th>marital_status_Divorced/Seperated</th>\n",
              "      <th>marital_status_Dont know</th>\n",
              "      <th>marital_status_Married/Living together</th>\n",
              "      <th>marital_status_Single/Never Married</th>\n",
              "      <th>marital_status_Widowed</th>\n",
              "      <th>country_Kenya</th>\n",
              "      <th>country_Rwanda</th>\n",
              "      <th>country_Tanzania</th>\n",
              "      <th>country_Uganda</th>\n",
              "      <th>year_2016</th>\n",
              "      <th>year_2017</th>\n",
              "      <th>year_2018</th>\n",
              "    </tr>\n",
              "  </thead>\n",
              "  <tbody>\n",
              "    <tr>\n",
              "      <th>0</th>\n",
              "      <td>0.142857</td>\n",
              "      <td>0.30</td>\n",
              "      <td>0</td>\n",
              "      <td>1</td>\n",
              "      <td>0</td>\n",
              "      <td>0</td>\n",
              "      <td>0</td>\n",
              "      <td>1</td>\n",
              "      <td>0</td>\n",
              "      <td>0</td>\n",
              "      <td>0</td>\n",
              "      <td>1</td>\n",
              "      <td>0</td>\n",
              "      <td>0</td>\n",
              "      <td>0</td>\n",
              "      <td>0</td>\n",
              "      <td>0</td>\n",
              "      <td>1</td>\n",
              "      <td>0</td>\n",
              "      <td>1</td>\n",
              "      <td>0</td>\n",
              "      <td>1</td>\n",
              "      <td>0</td>\n",
              "      <td>0</td>\n",
              "      <td>1</td>\n",
              "      <td>0</td>\n",
              "      <td>0</td>\n",
              "      <td>0</td>\n",
              "      <td>0</td>\n",
              "      <td>0</td>\n",
              "      <td>0</td>\n",
              "      <td>0</td>\n",
              "      <td>0</td>\n",
              "      <td>0</td>\n",
              "      <td>1</td>\n",
              "      <td>0</td>\n",
              "      <td>0</td>\n",
              "      <td>1</td>\n",
              "      <td>0</td>\n",
              "      <td>0</td>\n",
              "      <td>0</td>\n",
              "      <td>0</td>\n",
              "      <td>0</td>\n",
              "      <td>1</td>\n",
              "    </tr>\n",
              "    <tr>\n",
              "      <th>1</th>\n",
              "      <td>0.333333</td>\n",
              "      <td>0.51</td>\n",
              "      <td>0</td>\n",
              "      <td>1</td>\n",
              "      <td>0</td>\n",
              "      <td>0</td>\n",
              "      <td>0</td>\n",
              "      <td>0</td>\n",
              "      <td>0</td>\n",
              "      <td>1</td>\n",
              "      <td>0</td>\n",
              "      <td>1</td>\n",
              "      <td>0</td>\n",
              "      <td>0</td>\n",
              "      <td>0</td>\n",
              "      <td>0</td>\n",
              "      <td>0</td>\n",
              "      <td>1</td>\n",
              "      <td>0</td>\n",
              "      <td>1</td>\n",
              "      <td>0</td>\n",
              "      <td>1</td>\n",
              "      <td>0</td>\n",
              "      <td>0</td>\n",
              "      <td>0</td>\n",
              "      <td>1</td>\n",
              "      <td>0</td>\n",
              "      <td>0</td>\n",
              "      <td>0</td>\n",
              "      <td>0</td>\n",
              "      <td>0</td>\n",
              "      <td>0</td>\n",
              "      <td>0</td>\n",
              "      <td>0</td>\n",
              "      <td>1</td>\n",
              "      <td>0</td>\n",
              "      <td>0</td>\n",
              "      <td>1</td>\n",
              "      <td>0</td>\n",
              "      <td>0</td>\n",
              "      <td>0</td>\n",
              "      <td>0</td>\n",
              "      <td>0</td>\n",
              "      <td>1</td>\n",
              "    </tr>\n",
              "    <tr>\n",
              "      <th>2</th>\n",
              "      <td>0.142857</td>\n",
              "      <td>0.77</td>\n",
              "      <td>1</td>\n",
              "      <td>0</td>\n",
              "      <td>1</td>\n",
              "      <td>0</td>\n",
              "      <td>0</td>\n",
              "      <td>0</td>\n",
              "      <td>0</td>\n",
              "      <td>0</td>\n",
              "      <td>0</td>\n",
              "      <td>0</td>\n",
              "      <td>0</td>\n",
              "      <td>0</td>\n",
              "      <td>1</td>\n",
              "      <td>0</td>\n",
              "      <td>1</td>\n",
              "      <td>0</td>\n",
              "      <td>1</td>\n",
              "      <td>0</td>\n",
              "      <td>1</td>\n",
              "      <td>0</td>\n",
              "      <td>0</td>\n",
              "      <td>0</td>\n",
              "      <td>0</td>\n",
              "      <td>0</td>\n",
              "      <td>0</td>\n",
              "      <td>0</td>\n",
              "      <td>0</td>\n",
              "      <td>0</td>\n",
              "      <td>1</td>\n",
              "      <td>0</td>\n",
              "      <td>0</td>\n",
              "      <td>0</td>\n",
              "      <td>1</td>\n",
              "      <td>0</td>\n",
              "      <td>0</td>\n",
              "      <td>1</td>\n",
              "      <td>0</td>\n",
              "      <td>0</td>\n",
              "      <td>0</td>\n",
              "      <td>0</td>\n",
              "      <td>0</td>\n",
              "      <td>1</td>\n",
              "    </tr>\n",
              "    <tr>\n",
              "      <th>3</th>\n",
              "      <td>0.285714</td>\n",
              "      <td>0.39</td>\n",
              "      <td>1</td>\n",
              "      <td>0</td>\n",
              "      <td>0</td>\n",
              "      <td>0</td>\n",
              "      <td>1</td>\n",
              "      <td>0</td>\n",
              "      <td>0</td>\n",
              "      <td>0</td>\n",
              "      <td>0</td>\n",
              "      <td>1</td>\n",
              "      <td>0</td>\n",
              "      <td>0</td>\n",
              "      <td>0</td>\n",
              "      <td>0</td>\n",
              "      <td>1</td>\n",
              "      <td>0</td>\n",
              "      <td>1</td>\n",
              "      <td>0</td>\n",
              "      <td>1</td>\n",
              "      <td>0</td>\n",
              "      <td>0</td>\n",
              "      <td>0</td>\n",
              "      <td>0</td>\n",
              "      <td>0</td>\n",
              "      <td>0</td>\n",
              "      <td>0</td>\n",
              "      <td>0</td>\n",
              "      <td>0</td>\n",
              "      <td>1</td>\n",
              "      <td>0</td>\n",
              "      <td>0</td>\n",
              "      <td>0</td>\n",
              "      <td>1</td>\n",
              "      <td>0</td>\n",
              "      <td>0</td>\n",
              "      <td>1</td>\n",
              "      <td>0</td>\n",
              "      <td>0</td>\n",
              "      <td>0</td>\n",
              "      <td>0</td>\n",
              "      <td>0</td>\n",
              "      <td>1</td>\n",
              "    </tr>\n",
              "    <tr>\n",
              "      <th>4</th>\n",
              "      <td>0.142857</td>\n",
              "      <td>0.16</td>\n",
              "      <td>0</td>\n",
              "      <td>1</td>\n",
              "      <td>0</td>\n",
              "      <td>0</td>\n",
              "      <td>0</td>\n",
              "      <td>1</td>\n",
              "      <td>0</td>\n",
              "      <td>0</td>\n",
              "      <td>1</td>\n",
              "      <td>0</td>\n",
              "      <td>0</td>\n",
              "      <td>0</td>\n",
              "      <td>0</td>\n",
              "      <td>0</td>\n",
              "      <td>0</td>\n",
              "      <td>1</td>\n",
              "      <td>1</td>\n",
              "      <td>0</td>\n",
              "      <td>1</td>\n",
              "      <td>0</td>\n",
              "      <td>0</td>\n",
              "      <td>0</td>\n",
              "      <td>0</td>\n",
              "      <td>0</td>\n",
              "      <td>0</td>\n",
              "      <td>0</td>\n",
              "      <td>0</td>\n",
              "      <td>0</td>\n",
              "      <td>1</td>\n",
              "      <td>0</td>\n",
              "      <td>0</td>\n",
              "      <td>0</td>\n",
              "      <td>0</td>\n",
              "      <td>1</td>\n",
              "      <td>0</td>\n",
              "      <td>1</td>\n",
              "      <td>0</td>\n",
              "      <td>0</td>\n",
              "      <td>0</td>\n",
              "      <td>0</td>\n",
              "      <td>0</td>\n",
              "      <td>1</td>\n",
              "    </tr>\n",
              "  </tbody>\n",
              "</table>\n",
              "</div>"
            ],
            "text/plain": [
              "   household_size  age_of_respondent  ...  year_2017  year_2018\n",
              "0        0.142857               0.30  ...          0          1\n",
              "1        0.333333               0.51  ...          0          1\n",
              "2        0.142857               0.77  ...          0          1\n",
              "3        0.285714               0.39  ...          0          1\n",
              "4        0.142857               0.16  ...          0          1\n",
              "\n",
              "[5 rows x 44 columns]"
            ]
          },
          "metadata": {},
          "execution_count": 58
        }
      ]
    },
    {
      "cell_type": "code",
      "metadata": {
        "id": "vV7h1JkVJ_zP"
      },
      "source": [
        "X= dataset_Train_dummied.drop('bank_account', axis=1)\n",
        "y= dataset_Train_dummied ['bank_account']"
      ],
      "execution_count": null,
      "outputs": []
    },
    {
      "cell_type": "code",
      "metadata": {
        "colab": {
          "base_uri": "https://localhost:8080/",
          "height": 252
        },
        "id": "c6oTYsylKD8x",
        "outputId": "b11df40a-0e44-44db-bbc5-04e55691caf4"
      },
      "source": [
        "X.head()"
      ],
      "execution_count": null,
      "outputs": [
        {
          "output_type": "execute_result",
          "data": {
            "text/html": [
              "<div>\n",
              "<style scoped>\n",
              "    .dataframe tbody tr th:only-of-type {\n",
              "        vertical-align: middle;\n",
              "    }\n",
              "\n",
              "    .dataframe tbody tr th {\n",
              "        vertical-align: top;\n",
              "    }\n",
              "\n",
              "    .dataframe thead th {\n",
              "        text-align: right;\n",
              "    }\n",
              "</style>\n",
              "<table border=\"1\" class=\"dataframe\">\n",
              "  <thead>\n",
              "    <tr style=\"text-align: right;\">\n",
              "      <th></th>\n",
              "      <th>household_size</th>\n",
              "      <th>age_of_respondent</th>\n",
              "      <th>location_type_Rural</th>\n",
              "      <th>location_type_Urban</th>\n",
              "      <th>education_level_No formal education</th>\n",
              "      <th>education_level_Other/Dont know/RTA</th>\n",
              "      <th>education_level_Primary education</th>\n",
              "      <th>education_level_Secondary education</th>\n",
              "      <th>education_level_Tertiary education</th>\n",
              "      <th>education_level_Vocational/Specialised training</th>\n",
              "      <th>relationship_with_head_Child</th>\n",
              "      <th>relationship_with_head_Head of Household</th>\n",
              "      <th>relationship_with_head_Other non-relatives</th>\n",
              "      <th>relationship_with_head_Other relative</th>\n",
              "      <th>relationship_with_head_Parent</th>\n",
              "      <th>relationship_with_head_Spouse</th>\n",
              "      <th>gender_of_respondent_Female</th>\n",
              "      <th>gender_of_respondent_Male</th>\n",
              "      <th>cellphone_access_No</th>\n",
              "      <th>cellphone_access_Yes</th>\n",
              "      <th>cellphone_access_No</th>\n",
              "      <th>cellphone_access_Yes</th>\n",
              "      <th>job_type_Dont Know/Refuse to answer</th>\n",
              "      <th>job_type_Farming and Fishing</th>\n",
              "      <th>job_type_Formally employed Government</th>\n",
              "      <th>job_type_Formally employed Private</th>\n",
              "      <th>job_type_Government Dependent</th>\n",
              "      <th>job_type_Informally employed</th>\n",
              "      <th>job_type_No Income</th>\n",
              "      <th>job_type_Other Income</th>\n",
              "      <th>job_type_Remittance Dependent</th>\n",
              "      <th>job_type_Self employed</th>\n",
              "      <th>marital_status_Divorced/Seperated</th>\n",
              "      <th>marital_status_Dont know</th>\n",
              "      <th>marital_status_Married/Living together</th>\n",
              "      <th>marital_status_Single/Never Married</th>\n",
              "      <th>marital_status_Widowed</th>\n",
              "      <th>country_Kenya</th>\n",
              "      <th>country_Rwanda</th>\n",
              "      <th>country_Tanzania</th>\n",
              "      <th>country_Uganda</th>\n",
              "      <th>year_2016</th>\n",
              "      <th>year_2017</th>\n",
              "      <th>year_2018</th>\n",
              "    </tr>\n",
              "  </thead>\n",
              "  <tbody>\n",
              "    <tr>\n",
              "      <th>0</th>\n",
              "      <td>0.142857</td>\n",
              "      <td>0.24</td>\n",
              "      <td>1</td>\n",
              "      <td>0</td>\n",
              "      <td>0</td>\n",
              "      <td>0</td>\n",
              "      <td>0</td>\n",
              "      <td>1</td>\n",
              "      <td>0</td>\n",
              "      <td>0</td>\n",
              "      <td>0</td>\n",
              "      <td>0</td>\n",
              "      <td>0</td>\n",
              "      <td>0</td>\n",
              "      <td>0</td>\n",
              "      <td>1</td>\n",
              "      <td>1</td>\n",
              "      <td>0</td>\n",
              "      <td>0</td>\n",
              "      <td>1</td>\n",
              "      <td>0</td>\n",
              "      <td>1</td>\n",
              "      <td>0</td>\n",
              "      <td>0</td>\n",
              "      <td>0</td>\n",
              "      <td>0</td>\n",
              "      <td>0</td>\n",
              "      <td>0</td>\n",
              "      <td>0</td>\n",
              "      <td>0</td>\n",
              "      <td>0</td>\n",
              "      <td>1</td>\n",
              "      <td>0</td>\n",
              "      <td>0</td>\n",
              "      <td>1</td>\n",
              "      <td>0</td>\n",
              "      <td>0</td>\n",
              "      <td>1</td>\n",
              "      <td>0</td>\n",
              "      <td>0</td>\n",
              "      <td>0</td>\n",
              "      <td>0</td>\n",
              "      <td>0</td>\n",
              "      <td>1</td>\n",
              "    </tr>\n",
              "    <tr>\n",
              "      <th>1</th>\n",
              "      <td>0.238095</td>\n",
              "      <td>0.70</td>\n",
              "      <td>1</td>\n",
              "      <td>0</td>\n",
              "      <td>1</td>\n",
              "      <td>0</td>\n",
              "      <td>0</td>\n",
              "      <td>0</td>\n",
              "      <td>0</td>\n",
              "      <td>0</td>\n",
              "      <td>0</td>\n",
              "      <td>1</td>\n",
              "      <td>0</td>\n",
              "      <td>0</td>\n",
              "      <td>0</td>\n",
              "      <td>0</td>\n",
              "      <td>1</td>\n",
              "      <td>0</td>\n",
              "      <td>1</td>\n",
              "      <td>0</td>\n",
              "      <td>1</td>\n",
              "      <td>0</td>\n",
              "      <td>0</td>\n",
              "      <td>0</td>\n",
              "      <td>0</td>\n",
              "      <td>0</td>\n",
              "      <td>1</td>\n",
              "      <td>0</td>\n",
              "      <td>0</td>\n",
              "      <td>0</td>\n",
              "      <td>0</td>\n",
              "      <td>0</td>\n",
              "      <td>0</td>\n",
              "      <td>0</td>\n",
              "      <td>0</td>\n",
              "      <td>0</td>\n",
              "      <td>1</td>\n",
              "      <td>1</td>\n",
              "      <td>0</td>\n",
              "      <td>0</td>\n",
              "      <td>0</td>\n",
              "      <td>0</td>\n",
              "      <td>0</td>\n",
              "      <td>1</td>\n",
              "    </tr>\n",
              "    <tr>\n",
              "      <th>2</th>\n",
              "      <td>0.238095</td>\n",
              "      <td>0.26</td>\n",
              "      <td>0</td>\n",
              "      <td>1</td>\n",
              "      <td>0</td>\n",
              "      <td>0</td>\n",
              "      <td>0</td>\n",
              "      <td>0</td>\n",
              "      <td>0</td>\n",
              "      <td>1</td>\n",
              "      <td>0</td>\n",
              "      <td>0</td>\n",
              "      <td>0</td>\n",
              "      <td>1</td>\n",
              "      <td>0</td>\n",
              "      <td>0</td>\n",
              "      <td>0</td>\n",
              "      <td>1</td>\n",
              "      <td>0</td>\n",
              "      <td>1</td>\n",
              "      <td>0</td>\n",
              "      <td>1</td>\n",
              "      <td>0</td>\n",
              "      <td>0</td>\n",
              "      <td>0</td>\n",
              "      <td>0</td>\n",
              "      <td>0</td>\n",
              "      <td>0</td>\n",
              "      <td>0</td>\n",
              "      <td>0</td>\n",
              "      <td>0</td>\n",
              "      <td>1</td>\n",
              "      <td>0</td>\n",
              "      <td>0</td>\n",
              "      <td>0</td>\n",
              "      <td>1</td>\n",
              "      <td>0</td>\n",
              "      <td>1</td>\n",
              "      <td>0</td>\n",
              "      <td>0</td>\n",
              "      <td>0</td>\n",
              "      <td>0</td>\n",
              "      <td>0</td>\n",
              "      <td>1</td>\n",
              "    </tr>\n",
              "    <tr>\n",
              "      <th>3</th>\n",
              "      <td>0.238095</td>\n",
              "      <td>0.34</td>\n",
              "      <td>1</td>\n",
              "      <td>0</td>\n",
              "      <td>0</td>\n",
              "      <td>0</td>\n",
              "      <td>1</td>\n",
              "      <td>0</td>\n",
              "      <td>0</td>\n",
              "      <td>0</td>\n",
              "      <td>0</td>\n",
              "      <td>1</td>\n",
              "      <td>0</td>\n",
              "      <td>0</td>\n",
              "      <td>0</td>\n",
              "      <td>0</td>\n",
              "      <td>1</td>\n",
              "      <td>0</td>\n",
              "      <td>0</td>\n",
              "      <td>1</td>\n",
              "      <td>0</td>\n",
              "      <td>1</td>\n",
              "      <td>0</td>\n",
              "      <td>0</td>\n",
              "      <td>0</td>\n",
              "      <td>1</td>\n",
              "      <td>0</td>\n",
              "      <td>0</td>\n",
              "      <td>0</td>\n",
              "      <td>0</td>\n",
              "      <td>0</td>\n",
              "      <td>0</td>\n",
              "      <td>0</td>\n",
              "      <td>0</td>\n",
              "      <td>1</td>\n",
              "      <td>0</td>\n",
              "      <td>0</td>\n",
              "      <td>1</td>\n",
              "      <td>0</td>\n",
              "      <td>0</td>\n",
              "      <td>0</td>\n",
              "      <td>0</td>\n",
              "      <td>0</td>\n",
              "      <td>1</td>\n",
              "    </tr>\n",
              "    <tr>\n",
              "      <th>4</th>\n",
              "      <td>0.380952</td>\n",
              "      <td>0.26</td>\n",
              "      <td>0</td>\n",
              "      <td>1</td>\n",
              "      <td>0</td>\n",
              "      <td>0</td>\n",
              "      <td>1</td>\n",
              "      <td>0</td>\n",
              "      <td>0</td>\n",
              "      <td>0</td>\n",
              "      <td>1</td>\n",
              "      <td>0</td>\n",
              "      <td>0</td>\n",
              "      <td>0</td>\n",
              "      <td>0</td>\n",
              "      <td>0</td>\n",
              "      <td>0</td>\n",
              "      <td>1</td>\n",
              "      <td>1</td>\n",
              "      <td>0</td>\n",
              "      <td>1</td>\n",
              "      <td>0</td>\n",
              "      <td>0</td>\n",
              "      <td>0</td>\n",
              "      <td>0</td>\n",
              "      <td>0</td>\n",
              "      <td>0</td>\n",
              "      <td>1</td>\n",
              "      <td>0</td>\n",
              "      <td>0</td>\n",
              "      <td>0</td>\n",
              "      <td>0</td>\n",
              "      <td>0</td>\n",
              "      <td>0</td>\n",
              "      <td>0</td>\n",
              "      <td>1</td>\n",
              "      <td>0</td>\n",
              "      <td>1</td>\n",
              "      <td>0</td>\n",
              "      <td>0</td>\n",
              "      <td>0</td>\n",
              "      <td>0</td>\n",
              "      <td>0</td>\n",
              "      <td>1</td>\n",
              "    </tr>\n",
              "  </tbody>\n",
              "</table>\n",
              "</div>"
            ],
            "text/plain": [
              "   household_size  age_of_respondent  ...  year_2017  year_2018\n",
              "0        0.142857               0.24  ...          0          1\n",
              "1        0.238095               0.70  ...          0          1\n",
              "2        0.238095               0.26  ...          0          1\n",
              "3        0.238095               0.34  ...          0          1\n",
              "4        0.380952               0.26  ...          0          1\n",
              "\n",
              "[5 rows x 44 columns]"
            ]
          },
          "metadata": {},
          "execution_count": 60
        }
      ]
    },
    {
      "cell_type": "code",
      "metadata": {
        "id": "yeP4DkusKFGk",
        "colab": {
          "base_uri": "https://localhost:8080/"
        },
        "outputId": "c4cba580-1450-42ed-8fa5-0c806959eafa"
      },
      "source": [
        "y"
      ],
      "execution_count": null,
      "outputs": [
        {
          "output_type": "execute_result",
          "data": {
            "text/plain": [
              "0        1\n",
              "1        0\n",
              "2        1\n",
              "3        0\n",
              "4        0\n",
              "        ..\n",
              "23519    0\n",
              "23520    0\n",
              "23521    0\n",
              "23522    0\n",
              "23523    0\n",
              "Name: bank_account, Length: 23524, dtype: int64"
            ]
          },
          "metadata": {},
          "execution_count": 61
        }
      ]
    },
    {
      "cell_type": "code",
      "metadata": {
        "id": "ngvcuxLYd6kh"
      },
      "source": [
        "from sklearn.model_selection import train_test_split\n",
        "from sklearn.svm import SVC\n",
        "from sklearn.tree import DecisionTreeClassifier\n",
        "from sklearn.ensemble import RandomForestClassifier\n",
        "from sklearn.neighbors import KNeighborsClassifier\n",
        "from sklearn import metrics\n",
        "from sklearn.metrics import confusion_matrix, accuracy_score\n",
        "from sklearn.metrics import classification_report"
      ],
      "execution_count": null,
      "outputs": []
    },
    {
      "cell_type": "code",
      "metadata": {
        "id": "q3BgpssDHKhp"
      },
      "source": [
        "# Data Preprocessing \n",
        "x= dataset_Train_dummied.drop('bank_account', axis=1)\n",
        "y= dataset_Train_dummied ['bank_account']\n",
        "x_train, x_test, y_train, y_test = train_test_split(x,y, test_size=0.20,random_state=10)"
      ],
      "execution_count": null,
      "outputs": []
    },
    {
      "cell_type": "markdown",
      "metadata": {
        "id": "GLoebRTUJvhg"
      },
      "source": [
        "Decision Tree"
      ]
    },
    {
      "cell_type": "code",
      "metadata": {
        "id": "shsnaMgfJD8P"
      },
      "source": [
        "# training DTR model\n",
        "dtr = DecisionTreeClassifier()  \n",
        "dtr_model = dtr.fit(x_train, y_train)"
      ],
      "execution_count": null,
      "outputs": []
    },
    {
      "cell_type": "code",
      "metadata": {
        "colab": {
          "base_uri": "https://localhost:8080/"
        },
        "id": "Nq1juu7fJzyn",
        "outputId": "8c0ab33c-26d9-4a18-ba87-c1a9b02fca8d"
      },
      "source": [
        "#prediction\n",
        "y_pred_dtr = dtr_model.predict(x_test) \n",
        "y_pred_dtr"
      ],
      "execution_count": null,
      "outputs": [
        {
          "output_type": "execute_result",
          "data": {
            "text/plain": [
              "array([0, 0, 0, ..., 0, 0, 0])"
            ]
          },
          "metadata": {},
          "execution_count": 65
        }
      ]
    },
    {
      "cell_type": "code",
      "metadata": {
        "colab": {
          "base_uri": "https://localhost:8080/"
        },
        "id": "V9F2CgANLST9",
        "outputId": "97070ddc-68a2-47fc-ec36-4bcf6df3d795"
      },
      "source": [
        "#Evaluate the model\n",
        "print(classification_report(y_test, y_pred_dtr.round()))"
      ],
      "execution_count": null,
      "outputs": [
        {
          "output_type": "stream",
          "name": "stdout",
          "text": [
            "              precision    recall  f1-score   support\n",
            "\n",
            "           0       0.90      0.90      0.90      4074\n",
            "           1       0.37      0.36      0.37       631\n",
            "\n",
            "    accuracy                           0.83      4705\n",
            "   macro avg       0.64      0.63      0.64      4705\n",
            "weighted avg       0.83      0.83      0.83      4705\n",
            "\n"
          ]
        }
      ]
    },
    {
      "cell_type": "code",
      "metadata": {
        "id": "DA10PYlyLYvD"
      },
      "source": [
        "def randomstatesearch (clf) :\n",
        " d_scores = []\n",
        " for i in range(1,15) : \n",
        "  x_train,x_test,y_train,y_test=train_test_split(x,y,test_size=0.2,random_state=i)\n",
        "  clf = clf.fit(x_train, y_train)\n",
        "  y_pred = clf.predict(x_test)\n",
        "  accuracy = accuracy_score(y_test,y_pred)\n",
        "  d_scores.append(accuracy)\n",
        " print ( d_scores)"
      ],
      "execution_count": null,
      "outputs": []
    },
    {
      "cell_type": "code",
      "metadata": {
        "colab": {
          "base_uri": "https://localhost:8080/"
        },
        "id": "glg7dGtiLdWM",
        "outputId": "68f24e68-6de4-44ca-ed5d-5988e764e1d0"
      },
      "source": [
        "randomstatesearch(dtr)"
      ],
      "execution_count": null,
      "outputs": [
        {
          "output_type": "stream",
          "name": "stdout",
          "text": [
            "[0.8382571732199787, 0.8422954303931988, 0.8371944739638683, 0.8335812964930924, 0.8410201912858661, 0.8350690754516472, 0.844845908607864, 0.8418703506907546, 0.8335812964930924, 0.8329436769394262, 0.8323060573857598, 0.8391073326248671, 0.8335812964930924, 0.836769394261424]\n"
          ]
        }
      ]
    },
    {
      "cell_type": "markdown",
      "metadata": {
        "id": "3LNpcyKKLx4n"
      },
      "source": [
        "Random Forest Model"
      ]
    },
    {
      "cell_type": "code",
      "metadata": {
        "id": "rm7IGjAfLe5R"
      },
      "source": [
        "#training RFR model\n",
        "rfr = RandomForestClassifier()  \n",
        "rfr_model = rfr.fit(x_train, y_train) "
      ],
      "execution_count": null,
      "outputs": []
    },
    {
      "cell_type": "code",
      "metadata": {
        "colab": {
          "base_uri": "https://localhost:8080/"
        },
        "id": "5yTRlM1nL1Ou",
        "outputId": "06c814ec-7803-4b1d-cf42-a4392b537341"
      },
      "source": [
        "#prediction\n",
        "y_pred_rfr = rfr_model.predict(x_test) \n",
        "y_pred_rfr.round()"
      ],
      "execution_count": null,
      "outputs": [
        {
          "output_type": "execute_result",
          "data": {
            "text/plain": [
              "array([0, 0, 0, ..., 0, 0, 0])"
            ]
          },
          "metadata": {},
          "execution_count": 70
        }
      ]
    },
    {
      "cell_type": "code",
      "metadata": {
        "colab": {
          "base_uri": "https://localhost:8080/"
        },
        "id": "RWQaqLNWL3Fw",
        "outputId": "914d2349-1b92-4683-d868-c5021b04fb5e"
      },
      "source": [
        "#evaluate the model\n",
        "print(classification_report(y_test, y_pred_rfr.round()))\n"
      ],
      "execution_count": null,
      "outputs": [
        {
          "output_type": "stream",
          "name": "stdout",
          "text": [
            "              precision    recall  f1-score   support\n",
            "\n",
            "           0       0.91      0.94      0.92      4074\n",
            "           1       0.48      0.37      0.42       631\n",
            "\n",
            "    accuracy                           0.86      4705\n",
            "   macro avg       0.69      0.66      0.67      4705\n",
            "weighted avg       0.85      0.86      0.85      4705\n",
            "\n"
          ]
        }
      ]
    },
    {
      "cell_type": "markdown",
      "metadata": {
        "id": "oCA_MvNfMPht"
      },
      "source": [
        "Support Vector Machine"
      ]
    },
    {
      "cell_type": "code",
      "metadata": {
        "colab": {
          "base_uri": "https://localhost:8080/"
        },
        "id": "OZtVkq9LL5q3",
        "outputId": "ef577312-4116-460d-8cfc-d44e687fc7e0"
      },
      "source": [
        "# Training the algorithm\n",
        "svclassifier = SVC(kernel='linear')\n",
        "svclassifier.fit(x_train, y_train)"
      ],
      "execution_count": null,
      "outputs": [
        {
          "output_type": "execute_result",
          "data": {
            "text/plain": [
              "SVC(C=1.0, break_ties=False, cache_size=200, class_weight=None, coef0=0.0,\n",
              "    decision_function_shape='ovr', degree=3, gamma='scale', kernel='linear',\n",
              "    max_iter=-1, probability=False, random_state=None, shrinking=True,\n",
              "    tol=0.001, verbose=False)"
            ]
          },
          "metadata": {},
          "execution_count": 73
        }
      ]
    },
    {
      "cell_type": "code",
      "metadata": {
        "colab": {
          "base_uri": "https://localhost:8080/"
        },
        "id": "bZJ23rnNMFEW",
        "outputId": "a9da9dc8-787d-4861-e9aa-d94be1a71273"
      },
      "source": [
        "# predecting \n",
        "y_pred_svm = svclassifier.predict(x_test)\n",
        "print(y_pred_svm)"
      ],
      "execution_count": null,
      "outputs": [
        {
          "output_type": "stream",
          "name": "stdout",
          "text": [
            "[0 0 0 ... 0 0 0]\n"
          ]
        }
      ]
    },
    {
      "cell_type": "code",
      "metadata": {
        "colab": {
          "base_uri": "https://localhost:8080/"
        },
        "id": "mXQzmuZCMbR_",
        "outputId": "fa74b48b-8008-4a80-b297-15015e3151ec"
      },
      "source": [
        "# evaluation model \n",
        "print(classification_report(y_test,y_pred_svm))"
      ],
      "execution_count": null,
      "outputs": [
        {
          "output_type": "stream",
          "name": "stdout",
          "text": [
            "              precision    recall  f1-score   support\n",
            "\n",
            "           0       0.89      0.97      0.93      4074\n",
            "           1       0.59      0.26      0.36       631\n",
            "\n",
            "    accuracy                           0.88      4705\n",
            "   macro avg       0.74      0.62      0.65      4705\n",
            "weighted avg       0.85      0.88      0.86      4705\n",
            "\n"
          ]
        }
      ]
    },
    {
      "cell_type": "markdown",
      "metadata": {
        "id": "UXE-Ic0fMtNH"
      },
      "source": [
        "KNN"
      ]
    },
    {
      "cell_type": "code",
      "metadata": {
        "id": "j7Cf9RwpMeOx"
      },
      "source": [
        "#chossing KNN value\n",
        "error = []\n",
        "\n",
        "# Calculating error for K values between 1 and 40\n",
        "for i in range(1, 40):\n",
        "    knn = KNeighborsClassifier(n_neighbors=i)\n",
        "    knn.fit(x_train, y_train)\n",
        "    pred_i = knn.predict(x_test)\n",
        "    error.append(np.mean(pred_i != y_test))"
      ],
      "execution_count": null,
      "outputs": []
    },
    {
      "cell_type": "code",
      "metadata": {
        "colab": {
          "base_uri": "https://localhost:8080/",
          "height": 420
        },
        "id": "BReQnbzeMvIi",
        "outputId": "95436cdc-9061-4cba-d1ba-f224273a3d36"
      },
      "source": [
        "plt.figure(figsize=(12, 6))\n",
        "plt.plot(range(1, 40), error, color='red', linestyle='dashed', marker='o',\n",
        "         markerfacecolor='blue', markersize=10)\n",
        "plt.title('Error Rate K Value')\n",
        "plt.xlabel('K Value')\n",
        "plt.ylabel('Mean Error')"
      ],
      "execution_count": null,
      "outputs": [
        {
          "output_type": "execute_result",
          "data": {
            "text/plain": [
              "Text(0, 0.5, 'Mean Error')"
            ]
          },
          "metadata": {},
          "execution_count": 79
        },
        {
          "output_type": "display_data",
          "data": {
            "image/png": "[encoded data removed]",
            "text/plain": [
              "<Figure size 864x432 with 1 Axes>"
            ]
          },
          "metadata": {
            "needs_background": "light"
          }
        }
      ]
    },
    {
      "cell_type": "code",
      "metadata": {
        "colab": {
          "base_uri": "https://localhost:8080/"
        },
        "id": "4YlZWAnuNnm4",
        "outputId": "4b9ab9f2-b3bd-4d60-eb88-64e330ed7fb5"
      },
      "source": [
        "#training the algorithm\n",
        "#Fitting your model (using fit() method) to the training data is essentially the training part of the modelling process\n",
        "classifier_knn = KNeighborsClassifier(n_neighbors=16)\n",
        "classifier_knn.fit(x_train, y_train)"
      ],
      "execution_count": null,
      "outputs": [
        {
          "output_type": "execute_result",
          "data": {
            "text/plain": [
              "KNeighborsClassifier(algorithm='auto', leaf_size=30, metric='minkowski',\n",
              "                     metric_params=None, n_jobs=None, n_neighbors=16, p=2,\n",
              "                     weights='uniform')"
            ]
          },
          "metadata": {},
          "execution_count": 91
        }
      ]
    },
    {
      "cell_type": "code",
      "metadata": {
        "colab": {
          "base_uri": "https://localhost:8080/"
        },
        "id": "0OkySebbNvkz",
        "outputId": "5360a913-a4b5-414d-a794-fae1cffb09b2"
      },
      "source": [
        "#prediction\n",
        "y_pred_KNN = classifier_knn.predict(x_test)\n",
        "print (y_pred_KNN)\n"
      ],
      "execution_count": null,
      "outputs": [
        {
          "output_type": "stream",
          "name": "stdout",
          "text": [
            "[0 0 0 ... 0 0 0]\n"
          ]
        },
        {
          "output_type": "execute_result",
          "data": {
            "text/plain": [
              "4705"
            ]
          },
          "metadata": {},
          "execution_count": 97
        }
      ]
    },
    {
      "cell_type": "code",
      "metadata": {
        "colab": {
          "base_uri": "https://localhost:8080/"
        },
        "id": "pc6oHxf-N27a",
        "outputId": "10651221-c4a5-4dce-d6b4-467a16ecbd2a"
      },
      "source": [
        "#evalutate \n",
        "print(classification_report(y_test, y_pred_KNN))\n"
      ],
      "execution_count": null,
      "outputs": [
        {
          "output_type": "stream",
          "name": "stdout",
          "text": [
            "              precision    recall  f1-score   support\n",
            "\n",
            "           0       0.90      0.98      0.94      4074\n",
            "           1       0.69      0.29      0.41       631\n",
            "\n",
            "    accuracy                           0.89      4705\n",
            "   macro avg       0.80      0.64      0.67      4705\n",
            "weighted avg       0.87      0.89      0.87      4705\n",
            "\n"
          ]
        }
      ]
    },
    {
      "cell_type": "code",
      "metadata": {
        "colab": {
          "base_uri": "https://localhost:8080/"
        },
        "id": "qXMLYLfZN6Jt",
        "outputId": "7ef925c9-7fae-44c7-abce-c99e784fe61e"
      },
      "source": [
        "#  accuracy\n",
        "accuracy = metrics.accuracy_score(y_test,y_pred_KNN)\n",
        "print(accuracy)\n"
      ],
      "execution_count": null,
      "outputs": [
        {
          "output_type": "stream",
          "name": "stdout",
          "text": [
            "0.8875664187035069\n"
          ]
        }
      ]
    },
    {
      "cell_type": "code",
      "metadata": {
        "id": "citCmnOTQmjX"
      },
      "source": [
        ""
      ],
      "execution_count": null,
      "outputs": []
    },
    {
      "cell_type": "code",
      "metadata": {
        "id": "cwgooLykOUtD"
      },
      "source": [
        ""
      ],
      "execution_count": null,
      "outputs": []
    }
  ]
}